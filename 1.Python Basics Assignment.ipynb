{
 "cells": [
  {
   "cell_type": "raw",
   "id": "c0305edc-7818-444c-924a-19240474d161",
   "metadata": {},
   "source": [
    "PYTHON BASICS ASSIGNMENT 1"
   ]
  },
  {
   "cell_type": "raw",
   "id": "9b081e17-8afd-441a-8ca9-9f302e4230f4",
   "metadata": {},
   "source": [
    "THEORY QUESTIONS"
   ]
  },
  {
   "cell_type": "raw",
   "id": "7fbb1664-a107-4fe1-b8d0-42f8963805f3",
   "metadata": {},
   "source": [
    "Q1.  What is python and why is it popular?\n",
    "\n",
    "Ans. Python is a high-level programming language used for building websites, analyzing data, creating software, automating tasks, and more.\n",
    "it's popular because Simple syntax,Easy to Learn,Large community,Cross-platform,Fast Development"
   ]
  },
  {
   "cell_type": "raw",
   "id": "fc5ed932-1ebe-49f3-a7f6-3445e7bf3e0b",
   "metadata": {},
   "source": [
    " Q2. What is interpreter in python?\n",
    " \n",
    "Ans. An interpreter in Python is a program that runs Python code line by line. It reads and executes each command one at a time,\n",
    " making it easy to test and debug code.\n"
   ]
  },
  {
   "cell_type": "raw",
   "id": "670d3d36-aa1b-4024-a950-a985058ea195",
   "metadata": {},
   "source": [
    "Q3.What are pre-difined keywords in python?\n",
    "\n",
    "Ans.Predefined keywords in Python are reserved words that have special meaning and cannot be used as variable names.\n",
    "They are part of the Python language syntax.\n",
    "\n",
    "Examples:\n",
    "\n",
    "if, else, for, while, def, class, try, import, return, break, continue, lambda, etc.\n",
    "These words are used to perform specific tasks or define structures in Python programs."
   ]
  },
  {
   "cell_type": "raw",
   "id": "d97947a8-466a-4371-9cf9-009c825c3f3a",
   "metadata": {},
   "source": [
    "Q4. Can Keywords be used as veriable names?\n",
    "\n",
    "Ans . No, keywords cannot be used as variable names in Python because they are reserved for specific purposes in the language."
   ]
  },
  {
   "cell_type": "raw",
   "id": "1b359f19-6818-4477-abc8-91ea51c38425",
   "metadata": {},
   "source": [
    "Q5.What is mutability in python?\n",
    "\n",
    "Ans. Mutability in Python refers to whether the value of an object can be changed after it is created.\n",
    "\n",
    "Mutable objects: Can be changed or updated after creation.\n",
    "Examples: list, dictionary, set."
   ]
  },
  {
   "cell_type": "raw",
   "id": "244da627-addc-41a1-8876-5ef73ccb849c",
   "metadata": {},
   "source": [
    "Q6. Why are lists are mutable, but tuples are immutable?\n",
    "\n",
    "Ans. Lists are mutable because they are designed to allow modifications, such as adding, removing, or changing elements.\n",
    "Tuples are immutable to provide a fixed and unchangeable sequence, which ensures data integrity and allows them to be \n",
    "used as keys in dictionaries or stored in sets."
   ]
  },
  {
   "cell_type": "code",
   "execution_count": 25,
   "id": "eb473b17-ab64-4862-a96e-0fc3a701f36d",
   "metadata": {},
   "outputs": [
    {
     "name": "stdout",
     "output_type": "stream",
     "text": [
      "True\n"
     ]
    }
   ],
   "source": [
    "#Q7 what is difference between \"==\" and \"is\" operators in python?\n",
    "#Ans. \"==\" checks value equality: it evaluates whether the values of two objects are equal.\n",
    "#Example\n",
    "a = [1, 2, 3]\n",
    "b = [1, 2, 3]\n",
    "print(a == b)  # True (values are the same)\n"
   ]
  },
  {
   "cell_type": "code",
   "execution_count": 14,
   "id": "e728ba61-6b19-420b-ad80-a6755b8cada1",
   "metadata": {},
   "outputs": [
    {
     "name": "stdout",
     "output_type": "stream",
     "text": [
      "False\n"
     ]
    }
   ],
   "source": [
    "# is checks identity equality: it evaluates whether two objects refer to the same memory location (i.e., they are the same object).\n",
    "# Example:\n",
    "a = [1, 2, 3]\n",
    "b = [1, 2, 3]\n",
    "print(a is b)  # False (different objects in memory)"
   ]
  },
  {
   "cell_type": "raw",
   "id": "40d19572-bf9a-4f80-97e9-71bea7cc9d09",
   "metadata": {},
   "source": [
    " Q8. What are logical operators in python?\n",
    "\n",
    "Ans. Logical operators in Python are used to combine conditional statements and return a boolean value (True or False). \n",
    " The three main logical operators are:\n",
    "\n",
    " and: Returns True if both conditions are true.\n",
    " or: Returns True if at least one condition is true.\n",
    " not: Reverses the result, returning True if the condition is false."
   ]
  },
  {
   "cell_type": "raw",
   "id": "1f10ff28-1d03-4acd-9847-9b165ab2d3d2",
   "metadata": {},
   "source": [
    "Q9. What is type casting in python?\n",
    "\n",
    "Ans. Type casting in Python is the process of converting one data type into another. \n",
    " It can be done either explicitly by the programmer or implicitly by Python during execution.\n",
    " Explicit Type Casting (Manual conversion):\n",
    " You use built-in functions like int(), float(), str(), etc.\n",
    " Implicit Type Casting (Automatic conversion):\n",
    " Python automatically converts one data type to another when required."
   ]
  },
  {
   "cell_type": "raw",
   "id": "7ca0375a-aed1-4481-9985-e5c9cdac086c",
   "metadata": {},
   "source": [
    "Q10. What is difference between implicit and explicit type casting?\n",
    " \n",
    "Ans. Implicit Type Casting: Done automatically by Python, converting smaller or compatible types to larger ones.\n",
    " Explicit Type Casting: Done manually using functions like int(), float(), etc."
   ]
  },
  {
   "cell_type": "raw",
   "id": "19eff10e-782d-4261-ac77-819677c2aa3a",
   "metadata": {},
   "source": [
    "Q11. What is the purpose of conditional statements in python?\n",
    " \n",
    "Ans. The purpose of conditional statements in Python is to execute specific blocks of code based on whether a condition is True or False. \n",
    " They allow decision-making in programs."
   ]
  },
  {
   "cell_type": "raw",
   "id": "10225686-dad9-4bc1-b8b5-da12c4ba3a26",
   "metadata": {},
   "source": [
    "Q12. How does the elif statement work?\n",
    " \n",
    "Ans.The elif statement in Python stands for \"else if\" and allows you to check multiple conditions in sequence.\n",
    " If the if condition is false, Python evaluates the elif conditions one by one. \n",
    " The first elif condition that evaluates to True executes, and the rest are skipped."
   ]
  },
  {
   "cell_type": "raw",
   "id": "cb3fb242-7808-45d1-b89d-19d81c877757",
   "metadata": {},
   "source": [
    "Q13. What is the difference between for and while loops?\n",
    "\n",
    "Ans. The difference between for and while loops lies in their use and structure:\n",
    "\n",
    " for Loop:\n",
    "\n",
    " Iterates over a sequence (like a list, range, or string) or a predefined number of times.\n",
    " Best for when the number of iterations is known or working with iterable objects.\n",
    "\n",
    "\n",
    " while Loop:\n",
    "\n",
    " Repeats as long as a specified condition is True.\n",
    " Best for when the number of iterations is unknown and depends on a condition."
   ]
  },
  {
   "cell_type": "raw",
   "id": "428f4d13-943e-4b4b-9c6f-7e588c63afe3",
   "metadata": {},
   "source": [
    " Q14. Describe a scenario where a while loop is more suitable than a for loop\n",
    " \n",
    "  Ans. A while loop is more suitable when the number of iterations is unknown and depends on a condition that may change during the loop execution. \n",
    " For example, a scenario where you need to keep asking the user for input until they provide a valid response:\n",
    " In this case, you don't know how many times the user will need to be prompted, \n",
    " so a while loop is ideal as it continues until the user gives a valid response."
   ]
  },
  {
   "cell_type": "code",
   "execution_count": null,
   "id": "5f79d6e5-b1ef-4108-83c1-84a1152e46c1",
   "metadata": {},
   "outputs": [],
   "source": []
  },
  {
   "cell_type": "code",
   "execution_count": null,
   "id": "7a29a29e-dfcd-4c3b-a971-ca65bdfe1ccb",
   "metadata": {},
   "outputs": [],
   "source": []
  },
  {
   "cell_type": "raw",
   "id": "c0ef2d5a-7760-4e7e-bc09-7ab542dfcca4",
   "metadata": {},
   "source": [
    "PRACTICAL QUESTIONS"
   ]
  },
  {
   "cell_type": "raw",
   "id": "fd4d4474-2bae-47c6-9e43-7d6b89b3eafc",
   "metadata": {},
   "source": [
    "Q1. write a python program to print \"Hello, World!\""
   ]
  },
  {
   "cell_type": "code",
   "execution_count": 1,
   "id": "044c624d-5236-4ba2-b15a-caa600bc5f9f",
   "metadata": {},
   "outputs": [
    {
     "name": "stdout",
     "output_type": "stream",
     "text": [
      "Hello, World!\n"
     ]
    }
   ],
   "source": [
    "#Ans \n",
    "print(\"Hello, World!\")"
   ]
  },
  {
   "cell_type": "raw",
   "id": "162cc5be-1e0a-45f1-9ddb-90a6e700d4b1",
   "metadata": {},
   "source": [
    "Q2. Write a python program that displays your name and age."
   ]
  },
  {
   "cell_type": "code",
   "execution_count": 2,
   "id": "643058ce-89b9-45ba-93aa-1c00e98e5bb5",
   "metadata": {},
   "outputs": [
    {
     "name": "stdout",
     "output_type": "stream",
     "text": [
      "Ajay\n",
      "32\n"
     ]
    }
   ],
   "source": [
    "#Ans\n",
    "name = \"Ajay\"\n",
    "age = \"32\"\n",
    "print(name)\n",
    "print(age)"
   ]
  },
  {
   "cell_type": "raw",
   "id": "b6a72dd9-1e8d-4684-b8f2-cde77462c7f0",
   "metadata": {},
   "source": [
    "Q3. Write code to print all pre-defined keywords in python using the keywords library."
   ]
  },
  {
   "cell_type": "code",
   "execution_count": 14,
   "id": "b3f7e6b0-9f78-4d9e-89eb-4588ebb84447",
   "metadata": {},
   "outputs": [],
   "source": [
    "#Ans"
   ]
  },
  {
   "cell_type": "code",
   "execution_count": 15,
   "id": "9b02c7df-bedd-4bc3-93d8-17afc8b27352",
   "metadata": {},
   "outputs": [
    {
     "name": "stdout",
     "output_type": "stream",
     "text": [
      "\n",
      "Here is a list of the Python keywords.  Enter any keyword to get more help.\n",
      "\n",
      "False               class               from                or\n",
      "None                continue            global              pass\n",
      "True                def                 if                  raise\n",
      "and                 del                 import              return\n",
      "as                  elif                in                  try\n",
      "assert              else                is                  while\n",
      "async               except              lambda              with\n",
      "await               finally             nonlocal            yield\n",
      "break               for                 not                 \n",
      "\n"
     ]
    }
   ],
   "source": [
    "help('keywords')"
   ]
  },
  {
   "cell_type": "raw",
   "id": "215ebbfa-b975-4afc-8c68-ba80f5144b5d",
   "metadata": {},
   "source": [
    "Q4.write a program that checks if a given word is a python keyword library"
   ]
  },
  {
   "cell_type": "code",
   "execution_count": 24,
   "id": "7ff5d82f-bba3-4ef3-a7f4-bebe18a510fa",
   "metadata": {},
   "outputs": [
    {
     "name": "stdin",
     "output_type": "stream",
     "text": [
      "Enter a word to check if it is a Python keyword:  and\n"
     ]
    },
    {
     "name": "stdout",
     "output_type": "stream",
     "text": [
      "'and' is a Python keyword.\n"
     ]
    }
   ],
   "source": [
    "# Program to check if a given word is a Python keyword\n",
    "import keyword\n",
    "\n",
    "def is_keyword(word):\n",
    "    # Check if the word is a keyword\n",
    "    return keyword.iskeyword(word)\n",
    "\n",
    "def main():\n",
    "    # Input a word from the user\n",
    "    word = input(\"Enter a word to check if it is a Python keyword: \").strip()\n",
    "\n",
    "    # Check and display the result\n",
    "    if is_keyword(word):\n",
    "        print(f\"'{word}' is a Python keyword.\")\n",
    "    else:\n",
    "        print(f\"'{word}' is NOT a Python keyword.\")\n",
    "\n",
    "# Call the main function\n",
    "if __name__ == \"__main__\":\n",
    "    main()"
   ]
  },
  {
   "cell_type": "raw",
   "id": "f7c76be1-36b5-4f91-902f-655eabe40a96",
   "metadata": {},
   "source": [
    "Q5. Create a list and tuple in python and demonstrate how attempting to change an element works differently for each"
   ]
  },
  {
   "cell_type": "code",
   "execution_count": 26,
   "id": "1c9db0c5-61ca-4f1e-b38e-7934b5abfbb0",
   "metadata": {},
   "outputs": [
    {
     "name": "stdout",
     "output_type": "stream",
     "text": [
      "Original List: [1, 2, 3]\n",
      "Modified List: [1, 42, 3]\n"
     ]
    }
   ],
   "source": [
    "#Ans\n",
    "# Creating a list and a tuple\n",
    "my_list = [1, 2, 3]\n",
    "my_tuple = (1, 2, 3) \n",
    "# Trying to modify an element in the list\n",
    "print(\"Original List:\", my_list)\n",
    "my_list[1] = 42  # Modifying the second element in the list\n",
    "print(\"Modified List:\", my_list)"
   ]
  },
  {
   "cell_type": "code",
   "execution_count": 27,
   "id": "cdf2a163-5a55-471e-85dc-abfa829093bc",
   "metadata": {},
   "outputs": [
    {
     "name": "stdout",
     "output_type": "stream",
     "text": [
      "\n",
      "Original Tuple: (1, 2, 3)\n",
      "Error: 'tuple' object does not support item assignment\n"
     ]
    }
   ],
   "source": [
    "# Trying to modify an element in the tuple\n",
    "print(\"\\nOriginal Tuple:\", my_tuple)\n",
    "try:\n",
    "    my_tuple[1] = 42  # Attempting to modify the second element in the tuple\n",
    "except TypeError as e:\n",
    "    print(\"Error:\", e)"
   ]
  },
  {
   "cell_type": "raw",
   "id": "144813af-a958-4128-b60b-0160dc776682",
   "metadata": {},
   "source": [
    "Q6. Write a function to demonstrate the behavior of mutable and immutable agruments"
   ]
  },
  {
   "cell_type": "code",
   "execution_count": 28,
   "id": "f24c2129-f000-43bb-87d6-67dd575afefd",
   "metadata": {},
   "outputs": [
    {
     "name": "stdout",
     "output_type": "stream",
     "text": [
      "Before function call:\n",
      "List: [1, 2, 3]\n",
      "Number: 10\n",
      "\n",
      "After function call:\n",
      "List: [1, 2, 3, 42]\n",
      "Number: 10\n"
     ]
    }
   ],
   "source": [
    "#Ans\n",
    "def modify_values(mutable_obj, immutable_obj):\n",
    "    # Modify the mutable object (e.g., list)\n",
    "    mutable_obj.append(42)\n",
    "    \n",
    "    # Try to modify the immutable object (e.g., integer)\n",
    "    immutable_obj += 1  # Creates a new object for immutable types\n",
    "\n",
    "# Test the function\n",
    "my_list = [1, 2, 3]  # Mutable object\n",
    "my_number = 10       # Immutable object\n",
    "\n",
    "print(\"Before function call:\")\n",
    "print(\"List:\", my_list)\n",
    "print(\"Number:\", my_number)\n",
    "\n",
    "# Call the function\n",
    "modify_values(my_list, my_number)\n",
    "\n",
    "print(\"\\nAfter function call:\")\n",
    "print(\"List:\", my_list)  # Modified because it's mutable\n",
    "print(\"Number:\", my_number)  # Unchanged because it's immutable\n"
   ]
  },
  {
   "cell_type": "raw",
   "id": "909ee161-6532-405e-a85d-4387182cee6a",
   "metadata": {},
   "source": [
    "Q7. Write a function to demonstrate the behavior of mutable and immutable agruments"
   ]
  },
  {
   "cell_type": "code",
   "execution_count": 29,
   "id": "acbe93d9-5252-47a5-8265-257120ae7fc0",
   "metadata": {},
   "outputs": [
    {
     "name": "stdout",
     "output_type": "stream",
     "text": [
      "Before function call:\n",
      "List: [1, 2, 3]\n",
      "Number: 10\n",
      "\n",
      "After function call:\n",
      "List: [1, 2, 3, 42]\n",
      "Number: 10\n"
     ]
    }
   ],
   "source": [
    "#Ans\n",
    "def modify_values(mutable_obj, immutable_obj):\n",
    "    # Modify the mutable object (e.g., list)\n",
    "    mutable_obj.append(42)\n",
    "    \n",
    "    # Try to modify the immutable object (e.g., integer)\n",
    "    immutable_obj += 1  # Creates a new object for immutable types\n",
    "\n",
    "# Test the function\n",
    "my_list = [1, 2, 3]  # Mutable object\n",
    "my_number = 10       # Immutable object\n",
    "\n",
    "print(\"Before function call:\")\n",
    "print(\"List:\", my_list)\n",
    "print(\"Number:\", my_number)\n",
    "\n",
    "# Call the function\n",
    "modify_values(my_list, my_number)\n",
    "\n",
    "print(\"\\nAfter function call:\")\n",
    "print(\"List:\", my_list)  # Modified because it's mutable\n",
    "print(\"Number:\", my_number)  # Unchanged because it's immutable\n"
   ]
  },
  {
   "cell_type": "raw",
   "id": "16b6c119-b98f-453d-9f14-db2848cdcaf1",
   "metadata": {},
   "source": [
    "Q8. Write a program to demonstrate the use of logical operators."
   ]
  },
  {
   "cell_type": "code",
   "execution_count": 30,
   "id": "57ceebc7-cb3d-4da9-ac3a-6e0ce26033ea",
   "metadata": {},
   "outputs": [
    {
     "name": "stdout",
     "output_type": "stream",
     "text": [
      "a > 3 and b < 15: True\n",
      "a > 3 or b > 20: True\n",
      "not (a > 3 and b > 20): True\n"
     ]
    }
   ],
   "source": [
    "#Ans\n",
    "# Simple program to demonstrate logical operators\n",
    "\n",
    "# Define two variables\n",
    "a = 5\n",
    "b = 10\n",
    "\n",
    "# Using 'and' logical operator\n",
    "print(\"a > 3 and b < 15:\", a > 3 and b < 15)  # True because both conditions are true\n",
    "\n",
    "# Using 'or' logical operator\n",
    "print(\"a > 3 or b > 20:\", a > 3 or b > 20)  # True because the first condition is true\n",
    "\n",
    "# Using 'not' logical operator\n",
    "print(\"not (a > 3 and b > 20):\", not (a > 3 and b > 20))  # True because the condition inside is false\n",
    "\n"
   ]
  },
  {
   "cell_type": "raw",
   "id": "d7c2c05b-f4c8-4fec-a5fb-5076c96edf6f",
   "metadata": {},
   "source": [
    "Q9. write a python program to convert user input from string to integer,float and boolean types."
   ]
  },
  {
   "cell_type": "code",
   "execution_count": 32,
   "id": "e7cc1777-e6ad-46a3-854b-5b8012b15a18",
   "metadata": {},
   "outputs": [
    {
     "name": "stdin",
     "output_type": "stream",
     "text": [
      "Enter a value:  500\n"
     ]
    },
    {
     "name": "stdout",
     "output_type": "stream",
     "text": [
      "Converted to integer: 500\n",
      "Converted to float: 500.0\n",
      "Converted to boolean: False\n"
     ]
    }
   ],
   "source": [
    "#Ans\n",
    "# Program to convert user input to integer, float, and boolean\n",
    "\n",
    "# Get input from the user\n",
    "user_input = input(\"Enter a value: \")\n",
    "\n",
    "# Convert input to integer (if possible)\n",
    "try:\n",
    "    int_value = int(user_input)\n",
    "    print(\"Converted to integer:\", int_value)\n",
    "except ValueError:\n",
    "    print(\"Cannot convert to integer.\")\n",
    "\n",
    "# Convert input to float (if possible)\n",
    "try:\n",
    "    float_value = float(user_input)\n",
    "    print(\"Converted to float:\", float_value)\n",
    "except ValueError:\n",
    "    print(\"Cannot convert to float.\")\n",
    "\n",
    "# Convert input to boolean\n",
    "# If input is 'True' or 'true', it will be True. Otherwise, it will be False.\n",
    "boolean_value = user_input.lower() == 'true'\n",
    "print(\"Converted to boolean:\", boolean_value)\n"
   ]
  },
  {
   "cell_type": "raw",
   "id": "cda88266-48bd-4c2d-a52a-33692e20927b",
   "metadata": {},
   "source": [
    "Q10 . write code to demonstrate type casting and list elements"
   ]
  },
  {
   "cell_type": "code",
   "execution_count": 33,
   "id": "4445436d-a70f-4045-bd98-b1db382f5028",
   "metadata": {},
   "outputs": [
    {
     "name": "stdout",
     "output_type": "stream",
     "text": [
      "Original List: ['10', '20.5', 'True']\n",
      "Converted to Integer: 10\n",
      "Converted to Float: 20.5\n",
      "Converted to Boolean: True\n"
     ]
    }
   ],
   "source": [
    "#Ans\n",
    "# Program to demonstrate type casting and list elements\n",
    "\n",
    "# Define a list with different data types\n",
    "my_list = ['10', '20.5', 'True']\n",
    "\n",
    "# Type casting elements in the list\n",
    "int_value = int(my_list[0])  # Convert string '10' to integer\n",
    "float_value = float(my_list[1])  # Convert string '20.5' to float\n",
    "bool_value = bool(my_list[2])  # Convert string 'True' to boolean\n",
    "\n",
    "# Print the original list and the casted values\n",
    "print(\"Original List:\", my_list)\n",
    "print(\"Converted to Integer:\", int_value)\n",
    "print(\"Converted to Float:\", float_value)\n",
    "print(\"Converted to Boolean:\", bool_value)\n"
   ]
  },
  {
   "cell_type": "raw",
   "id": "0c634779-4935-4ffa-a5aa-dc02d95013c1",
   "metadata": {},
   "source": [
    "Q11. Write a program that check if a number is positive ,negative or zero."
   ]
  },
  {
   "cell_type": "code",
   "execution_count": 34,
   "id": "f152532d-71f7-43fa-9b7d-ef17affa339a",
   "metadata": {},
   "outputs": [
    {
     "name": "stdin",
     "output_type": "stream",
     "text": [
      "Enter a number:  65\n"
     ]
    },
    {
     "name": "stdout",
     "output_type": "stream",
     "text": [
      "The number is positive.\n"
     ]
    }
   ],
   "source": [
    "#Ans\n",
    "# Program to check if a number is positive, negative, or zero\n",
    "\n",
    "# Get input from the user\n",
    "num = float(input(\"Enter a number: \"))\n",
    "\n",
    "# Check the condition\n",
    "if num > 0:\n",
    "    print(\"The number is positive.\")\n",
    "elif num < 0:\n",
    "    print(\"The number is negative.\")\n",
    "else:\n",
    "    print(\"The number is zero.\")\n"
   ]
  },
  {
   "cell_type": "raw",
   "id": "a9969b23-3047-49d0-80ec-59180add4c78",
   "metadata": {},
   "source": [
    "Q12. write a for loop to print numbers for 1 to 10."
   ]
  },
  {
   "cell_type": "code",
   "execution_count": 35,
   "id": "45466775-65c4-401e-a36f-fa69bed81b46",
   "metadata": {},
   "outputs": [
    {
     "name": "stdout",
     "output_type": "stream",
     "text": [
      "1\n",
      "2\n",
      "3\n",
      "4\n",
      "5\n",
      "6\n",
      "7\n",
      "8\n",
      "9\n",
      "10\n"
     ]
    }
   ],
   "source": [
    "#Ans\n",
    "# Program to print numbers from 1 to 10 using a for loop\n",
    "\n",
    "# Using the range function to generate numbers from 1 to 10\n",
    "for number in range(1, 11):\n",
    "    print(number)\n"
   ]
  },
  {
   "cell_type": "raw",
   "id": "1ed52630-21d7-43d2-8c89-c214b921fc1a",
   "metadata": {},
   "source": [
    "Q13.Write a python program to find the sum of all even numbers between 1 to 50"
   ]
  },
  {
   "cell_type": "code",
   "execution_count": 36,
   "id": "ce3dfeb6-84cb-471b-90b9-0f7079d79146",
   "metadata": {},
   "outputs": [
    {
     "name": "stdout",
     "output_type": "stream",
     "text": [
      "Sum of all even numbers between 1 and 50: 650\n"
     ]
    }
   ],
   "source": [
    "#Ans\n",
    "# Program to find the sum of all even numbers between 1 and 50\n",
    "\n",
    "# Initialize sum variable\n",
    "sum_even = 0\n",
    "\n",
    "# Loop through numbers from 1 to 50\n",
    "for number in range(1, 51):\n",
    "    if number % 2 == 0:  # Check if the number is even\n",
    "        sum_even += number  # Add the even number to sum\n",
    "\n",
    "# Print the result\n",
    "print(\"Sum of all even numbers between 1 and 50:\", sum_even)\n"
   ]
  },
  {
   "cell_type": "raw",
   "id": "7ce8b63d-0ee2-4488-9fe0-41879528a065",
   "metadata": {},
   "source": [
    "Q14. Write a program to reverse a string using a while loop"
   ]
  },
  {
   "cell_type": "code",
   "execution_count": 37,
   "id": "1bf07c3f-ce92-4cb0-9b30-8c96b8260aaa",
   "metadata": {},
   "outputs": [
    {
     "name": "stdin",
     "output_type": "stream",
     "text": [
      "Enter a string:  ajay\n"
     ]
    },
    {
     "name": "stdout",
     "output_type": "stream",
     "text": [
      "Reversed string: yaja\n"
     ]
    }
   ],
   "source": [
    "#Ans\n",
    "# Program to reverse a string using a while loop\n",
    "\n",
    "# Input string from the user\n",
    "string = input(\"Enter a string: \")\n",
    "\n",
    "# Initialize an empty string to store the reversed string\n",
    "reversed_string = \"\"\n",
    "\n",
    "# Initialize a counter for the length of the string\n",
    "index = len(string) - 1\n",
    "\n",
    "# Use a while loop to reverse the string\n",
    "while index >= 0:\n",
    "    reversed_string += string[index]  # Add the character at 'index' to the reversed string\n",
    "    index -= 1  # Decrease the index to move to the previous character\n",
    "\n",
    "# Print the reversed string\n",
    "print(\"Reversed string:\", reversed_string)\n",
    "\n"
   ]
  },
  {
   "cell_type": "raw",
   "id": "d6c52048-ab30-42e3-ada0-419f9b91f4b9",
   "metadata": {},
   "source": [
    "Q15. write a python program to calculate the factorical of a number provided by the user using a while loop"
   ]
  },
  {
   "cell_type": "code",
   "execution_count": 38,
   "id": "e0bbfdb9-4196-4efc-bbc3-811b89ac3c98",
   "metadata": {},
   "outputs": [
    {
     "name": "stdin",
     "output_type": "stream",
     "text": [
      "Enter a number:  25\n"
     ]
    },
    {
     "name": "stdout",
     "output_type": "stream",
     "text": [
      "Factorial is: 15511210043330985984000000\n"
     ]
    }
   ],
   "source": [
    "#Ans\n",
    "# Program to calculate the factorial of a number using a while loop\n",
    "\n",
    "# Get input from the user\n",
    "num = int(input(\"Enter a number: \"))\n",
    "\n",
    "# Initialize factorial variable\n",
    "factorial = 1\n",
    "\n",
    "# Check if the number is non-negative\n",
    "if num < 0:\n",
    "    print(\"Factorial is not defined for negative numbers.\")\n",
    "else:\n",
    "    # Use a while loop to calculate factorial\n",
    "    while num > 1:\n",
    "        factorial *= num  # Multiply the current value of factorial by the number\n",
    "        num -= 1  # Decrease the number by 1\n",
    "\n",
    "    # Print the result\n",
    "    print(\"Factorial is:\", factorial)\n"
   ]
  }
 ],
 "metadata": {
  "kernelspec": {
   "display_name": "Python 3 (ipykernel)",
   "language": "python",
   "name": "python3"
  },
  "language_info": {
   "codemirror_mode": {
    "name": "ipython",
    "version": 3
   },
   "file_extension": ".py",
   "mimetype": "text/x-python",
   "name": "python",
   "nbconvert_exporter": "python",
   "pygments_lexer": "ipython3",
   "version": "3.13.1"
  }
 },
 "nbformat": 4,
 "nbformat_minor": 5
}
